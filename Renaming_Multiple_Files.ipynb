{
 "cells": [
  {
   "cell_type": "code",
   "execution_count": null,
   "metadata": {},
   "outputs": [],
   "source": [
    "import os\n",
    "\n",
    "folder_path = r'Enter Here' #Enter the Folder Path between the quotes\n",
    "count=1\n",
    "\n",
    "for file_name in os.listdir(folder_path):\n",
    "    os.rename(folder_path + '\\\\' + file_name , folder_path + '\\\\' + \"image_\" + str(count) + '.jpg') \n",
    "    #Change the file type by changing '.jpg' to required file type\n",
    "    #Change the file name by changing 'image_' to required file name\n",
    "    count+=1"
   ]
  }
 ],
 "metadata": {
  "colab": {
   "name": "Rename Files.ipynb",
   "provenance": []
  },
  "kernelspec": {
   "display_name": "Python 3",
   "language": "python",
   "name": "python3"
  },
  "language_info": {
   "codemirror_mode": {
    "name": "ipython",
    "version": 3
   },
   "file_extension": ".py",
   "mimetype": "text/x-python",
   "name": "python",
   "nbconvert_exporter": "python",
   "pygments_lexer": "ipython3",
   "version": "3.7.6"
  }
 },
 "nbformat": 4,
 "nbformat_minor": 1
}
